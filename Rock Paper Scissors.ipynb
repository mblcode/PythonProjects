{
 "cells": [
  {
   "cell_type": "code",
   "execution_count": 1,
   "id": "9e1ca32c",
   "metadata": {
    "scrolled": true
   },
   "outputs": [
    {
     "name": "stdout",
     "output_type": "stream",
     "text": [
      " \n",
      "Rock Paper Scissors - GO!\n",
      "What's your choice? [R]ock , [P]aper or [S]cissors? dfgdfg\n",
      "Please choose a letter:\n",
      "[R]ock , [P]aper or [S]cissors\n",
      " \n",
      "Rock Paper Scissors - GO!\n",
      "What's your choice? [R]ock , [P]aper or [S]cissors? htfh\n",
      "Please choose a letter:\n",
      "[R]ock , [P]aper or [S]cissors\n",
      " \n",
      "Rock Paper Scissors - GO!\n",
      "What's your choice? [R]ock , [P]aper or [S]cissors? p\n",
      "You chose p\n",
      "I chose: P\n",
      "Tie!\n",
      "Would you like to play again? (Yes or No) no\n",
      "Thank you for playing!\n"
     ]
    }
   ],
   "source": [
    "import random\n",
    "import os\n",
    "import re\n",
    "\n",
    "def turn_status():\n",
    "    acptd_answer = [\"yes\", \"no\" ]\n",
    "    while True:\n",
    "        try: \n",
    "            answer = input(\"Would you like to play again? (Yes or No) \")\n",
    "            if answer.lower() not in acptd_answer:\n",
    "                raise ValueError(\"Yes or No only\")\n",
    "            if answer.lower() == \"yes\":\n",
    "                return True\n",
    "            else:\n",
    "                os.system(\"cls\" if os.name == \"nt\" else \"clear\")\n",
    "                print(\"Thank you for playing!\")\n",
    "                exit()\n",
    "                break\n",
    "                \n",
    "                    \n",
    "        except ValueError as err:\n",
    "            print(err)\n",
    "            \n",
    "def playRPS():\n",
    "    play = True\n",
    "    while play:\n",
    "        os.system(\"cls\" if os.name == \"nt\" else \"clear\")\n",
    "        print(\" \")\n",
    "        print(\"Rock Paper Scissors - GO!\")\n",
    "        \n",
    "        uchoice = input(\"What's your choice? [R]ock , [P]aper or [S]cissors? \")\n",
    "        \n",
    "        if not re.match(\"[SsRrPp]\", uchoice):\n",
    "            print(\"Please choose a letter:\")\n",
    "            print(\"[R]ock , [P]aper or [S]cissors\")\n",
    "            continue\n",
    "            \n",
    "        print(f\"You chose {uchoice}\")\n",
    "        \n",
    "        choices = [\"R\", \"P\", \"S\"]\n",
    "        opp_choice = random.choice(choices)\n",
    "        \n",
    "        print(f\"I chose: {opp_choice}\")\n",
    "        \n",
    "        if opp_choice == uchoice.upper():\n",
    "            print(\"Tie!\")\n",
    "            play = turn_status()\n",
    "        elif opp_choice == \"R\" and uchoice.upper() == \"S\":\n",
    "            print(\"Rock beats scissors. I win!\")\n",
    "            play = turn_status()\n",
    "        elif opp_choice == \"S\" and uchoice.upper() == \"P\":\n",
    "            print(\"Scissors cut paper. I win!\")\n",
    "            play = turn_status()\n",
    "        elif opp_choice == \"P\" and uchoice.upper() == \"R\":\n",
    "            print(\"Paper beats Rock. I win!\")\n",
    "            play = turn_status()\n",
    "        else:\n",
    "            print(\"You win! \\n\")\n",
    "            play = turn_status()\n",
    "    \n",
    "            \n",
    "if __name__ == \"__main__\":\n",
    "    playRPS()"
   ]
  }
 ],
 "metadata": {
  "kernelspec": {
   "display_name": "Python 3",
   "language": "python",
   "name": "python3"
  },
  "language_info": {
   "codemirror_mode": {
    "name": "ipython",
    "version": 3
   },
   "file_extension": ".py",
   "mimetype": "text/x-python",
   "name": "python",
   "nbconvert_exporter": "python",
   "pygments_lexer": "ipython3",
   "version": "3.8.8"
  }
 },
 "nbformat": 4,
 "nbformat_minor": 5
}
